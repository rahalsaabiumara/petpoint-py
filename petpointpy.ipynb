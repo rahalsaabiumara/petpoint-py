{
  "nbformat": 4,
  "nbformat_minor": 0,
  "metadata": {
    "colab": {
      "provenance": []
    },
    "kernelspec": {
      "name": "python3",
      "display_name": "Python 3"
    },
    "language_info": {
      "name": "python"
    }
  },
  "cells": [
    {
      "cell_type": "markdown",
      "source": [
        "# Setup Lingkungan\n",
        "Sebelum memulai, pastikan Anda menjalankan notebook ini di Google Colab atau lingkungan lokal dengan file data berikut sudah diunggah:\n",
        "\n",
        "* data2.json: Data percakapan chatbot.\n",
        "* stopword_list_tala.txt: Daftar kata stopword khusus.\n",
        "* id.vec: Embedding FastText untuk Bahasa Indonesia.\n",
        "\n",
        "Instal paket Python yang diperlukan dengan menjalankan perintah berikut:"
      ],
      "metadata": {
        "id": "buoVnXi7-ju9"
      }
    },
    {
      "cell_type": "code",
      "source": [
        "!pip install tensorflow==2.15.0 gensim keras-tuner imbalanced-learn Sastrawi sentencepiece seqeval tensorflow-addons"
      ],
      "metadata": {
        "colab": {
          "base_uri": "https://localhost:8080/"
        },
        "id": "Sp3OmvTu-8v9",
        "outputId": "1abeb038-f38f-49f6-b377-b187333c083d"
      },
      "execution_count": 6,
      "outputs": [
        {
          "output_type": "stream",
          "name": "stdout",
          "text": [
            "Requirement already satisfied: tensorflow==2.15.0 in /usr/local/lib/python3.10/dist-packages (2.15.0)\n",
            "Requirement already satisfied: gensim in /usr/local/lib/python3.10/dist-packages (4.3.3)\n",
            "Requirement already satisfied: keras-tuner in /usr/local/lib/python3.10/dist-packages (1.4.7)\n",
            "Requirement already satisfied: imbalanced-learn in /usr/local/lib/python3.10/dist-packages (0.12.4)\n",
            "Requirement already satisfied: Sastrawi in /usr/local/lib/python3.10/dist-packages (1.0.1)\n",
            "Requirement already satisfied: sentencepiece in /usr/local/lib/python3.10/dist-packages (0.2.0)\n",
            "Requirement already satisfied: seqeval in /usr/local/lib/python3.10/dist-packages (1.2.2)\n",
            "Requirement already satisfied: tensorflow-addons in /usr/local/lib/python3.10/dist-packages (0.23.0)\n",
            "Requirement already satisfied: absl-py>=1.0.0 in /usr/local/lib/python3.10/dist-packages (from tensorflow==2.15.0) (1.4.0)\n",
            "Requirement already satisfied: astunparse>=1.6.0 in /usr/local/lib/python3.10/dist-packages (from tensorflow==2.15.0) (1.6.3)\n",
            "Requirement already satisfied: flatbuffers>=23.5.26 in /usr/local/lib/python3.10/dist-packages (from tensorflow==2.15.0) (24.3.25)\n",
            "Requirement already satisfied: gast!=0.5.0,!=0.5.1,!=0.5.2,>=0.2.1 in /usr/local/lib/python3.10/dist-packages (from tensorflow==2.15.0) (0.6.0)\n",
            "Requirement already satisfied: google-pasta>=0.1.1 in /usr/local/lib/python3.10/dist-packages (from tensorflow==2.15.0) (0.2.0)\n",
            "Requirement already satisfied: h5py>=2.9.0 in /usr/local/lib/python3.10/dist-packages (from tensorflow==2.15.0) (3.12.1)\n",
            "Requirement already satisfied: libclang>=13.0.0 in /usr/local/lib/python3.10/dist-packages (from tensorflow==2.15.0) (18.1.1)\n",
            "Requirement already satisfied: ml-dtypes~=0.2.0 in /usr/local/lib/python3.10/dist-packages (from tensorflow==2.15.0) (0.2.0)\n",
            "Requirement already satisfied: numpy<2.0.0,>=1.23.5 in /usr/local/lib/python3.10/dist-packages (from tensorflow==2.15.0) (1.26.4)\n",
            "Requirement already satisfied: opt-einsum>=2.3.2 in /usr/local/lib/python3.10/dist-packages (from tensorflow==2.15.0) (3.4.0)\n",
            "Requirement already satisfied: packaging in /usr/local/lib/python3.10/dist-packages (from tensorflow==2.15.0) (24.2)\n",
            "Requirement already satisfied: protobuf!=4.21.0,!=4.21.1,!=4.21.2,!=4.21.3,!=4.21.4,!=4.21.5,<5.0.0dev,>=3.20.3 in /usr/local/lib/python3.10/dist-packages (from tensorflow==2.15.0) (4.25.5)\n",
            "Requirement already satisfied: setuptools in /usr/local/lib/python3.10/dist-packages (from tensorflow==2.15.0) (75.1.0)\n",
            "Requirement already satisfied: six>=1.12.0 in /usr/local/lib/python3.10/dist-packages (from tensorflow==2.15.0) (1.16.0)\n",
            "Requirement already satisfied: termcolor>=1.1.0 in /usr/local/lib/python3.10/dist-packages (from tensorflow==2.15.0) (2.5.0)\n",
            "Requirement already satisfied: typing-extensions>=3.6.6 in /usr/local/lib/python3.10/dist-packages (from tensorflow==2.15.0) (4.12.2)\n",
            "Requirement already satisfied: wrapt<1.15,>=1.11.0 in /usr/local/lib/python3.10/dist-packages (from tensorflow==2.15.0) (1.14.1)\n",
            "Requirement already satisfied: tensorflow-io-gcs-filesystem>=0.23.1 in /usr/local/lib/python3.10/dist-packages (from tensorflow==2.15.0) (0.37.1)\n",
            "Requirement already satisfied: grpcio<2.0,>=1.24.3 in /usr/local/lib/python3.10/dist-packages (from tensorflow==2.15.0) (1.68.1)\n",
            "Requirement already satisfied: tensorboard<2.16,>=2.15 in /usr/local/lib/python3.10/dist-packages (from tensorflow==2.15.0) (2.15.2)\n",
            "Requirement already satisfied: tensorflow-estimator<2.16,>=2.15.0 in /usr/local/lib/python3.10/dist-packages (from tensorflow==2.15.0) (2.15.0)\n",
            "Requirement already satisfied: keras<2.16,>=2.15.0 in /usr/local/lib/python3.10/dist-packages (from tensorflow==2.15.0) (2.15.0)\n",
            "Requirement already satisfied: scipy<1.14.0,>=1.7.0 in /usr/local/lib/python3.10/dist-packages (from gensim) (1.13.1)\n",
            "Requirement already satisfied: smart-open>=1.8.1 in /usr/local/lib/python3.10/dist-packages (from gensim) (7.0.5)\n",
            "Requirement already satisfied: requests in /usr/local/lib/python3.10/dist-packages (from keras-tuner) (2.32.3)\n",
            "Requirement already satisfied: kt-legacy in /usr/local/lib/python3.10/dist-packages (from keras-tuner) (1.0.5)\n",
            "Requirement already satisfied: scikit-learn>=1.0.2 in /usr/local/lib/python3.10/dist-packages (from imbalanced-learn) (1.5.2)\n",
            "Requirement already satisfied: joblib>=1.1.1 in /usr/local/lib/python3.10/dist-packages (from imbalanced-learn) (1.4.2)\n",
            "Requirement already satisfied: threadpoolctl>=2.0.0 in /usr/local/lib/python3.10/dist-packages (from imbalanced-learn) (3.5.0)\n",
            "Requirement already satisfied: typeguard<3.0.0,>=2.7 in /usr/local/lib/python3.10/dist-packages (from tensorflow-addons) (2.13.3)\n",
            "Requirement already satisfied: wheel<1.0,>=0.23.0 in /usr/local/lib/python3.10/dist-packages (from astunparse>=1.6.0->tensorflow==2.15.0) (0.45.1)\n",
            "Requirement already satisfied: google-auth<3,>=1.6.3 in /usr/local/lib/python3.10/dist-packages (from tensorboard<2.16,>=2.15->tensorflow==2.15.0) (2.27.0)\n",
            "Requirement already satisfied: google-auth-oauthlib<2,>=0.5 in /usr/local/lib/python3.10/dist-packages (from tensorboard<2.16,>=2.15->tensorflow==2.15.0) (1.2.1)\n",
            "Requirement already satisfied: markdown>=2.6.8 in /usr/local/lib/python3.10/dist-packages (from tensorboard<2.16,>=2.15->tensorflow==2.15.0) (3.7)\n",
            "Requirement already satisfied: tensorboard-data-server<0.8.0,>=0.7.0 in /usr/local/lib/python3.10/dist-packages (from tensorboard<2.16,>=2.15->tensorflow==2.15.0) (0.7.2)\n",
            "Requirement already satisfied: werkzeug>=1.0.1 in /usr/local/lib/python3.10/dist-packages (from tensorboard<2.16,>=2.15->tensorflow==2.15.0) (3.1.3)\n",
            "Requirement already satisfied: charset-normalizer<4,>=2 in /usr/local/lib/python3.10/dist-packages (from requests->keras-tuner) (3.4.0)\n",
            "Requirement already satisfied: idna<4,>=2.5 in /usr/local/lib/python3.10/dist-packages (from requests->keras-tuner) (3.10)\n",
            "Requirement already satisfied: urllib3<3,>=1.21.1 in /usr/local/lib/python3.10/dist-packages (from requests->keras-tuner) (2.2.3)\n",
            "Requirement already satisfied: certifi>=2017.4.17 in /usr/local/lib/python3.10/dist-packages (from requests->keras-tuner) (2024.8.30)\n",
            "Requirement already satisfied: cachetools<6.0,>=2.0.0 in /usr/local/lib/python3.10/dist-packages (from google-auth<3,>=1.6.3->tensorboard<2.16,>=2.15->tensorflow==2.15.0) (5.5.0)\n",
            "Requirement already satisfied: pyasn1-modules>=0.2.1 in /usr/local/lib/python3.10/dist-packages (from google-auth<3,>=1.6.3->tensorboard<2.16,>=2.15->tensorflow==2.15.0) (0.4.1)\n",
            "Requirement already satisfied: rsa<5,>=3.1.4 in /usr/local/lib/python3.10/dist-packages (from google-auth<3,>=1.6.3->tensorboard<2.16,>=2.15->tensorflow==2.15.0) (4.9)\n",
            "Requirement already satisfied: requests-oauthlib>=0.7.0 in /usr/local/lib/python3.10/dist-packages (from google-auth-oauthlib<2,>=0.5->tensorboard<2.16,>=2.15->tensorflow==2.15.0) (1.3.1)\n",
            "Requirement already satisfied: MarkupSafe>=2.1.1 in /usr/local/lib/python3.10/dist-packages (from werkzeug>=1.0.1->tensorboard<2.16,>=2.15->tensorflow==2.15.0) (3.0.2)\n",
            "Requirement already satisfied: pyasn1<0.7.0,>=0.4.6 in /usr/local/lib/python3.10/dist-packages (from pyasn1-modules>=0.2.1->google-auth<3,>=1.6.3->tensorboard<2.16,>=2.15->tensorflow==2.15.0) (0.6.1)\n",
            "Requirement already satisfied: oauthlib>=3.0.0 in /usr/local/lib/python3.10/dist-packages (from requests-oauthlib>=0.7.0->google-auth-oauthlib<2,>=0.5->tensorboard<2.16,>=2.15->tensorflow==2.15.0) (3.2.2)\n"
          ]
        }
      ]
    },
    {
      "cell_type": "markdown",
      "source": [
        "# Mengimpor Library\n",
        "Kita akan mengimpor semua library yang diperlukan untuk memproses data, membangun model, dan melakukan evaluasi."
      ],
      "metadata": {
        "id": "IAJhUSIg_fef"
      }
    },
    {
      "cell_type": "code",
      "source": [
        "import json\n",
        "import pandas as pd\n",
        "import numpy as np\n",
        "import tensorflow as tf\n",
        "from tensorflow.keras.preprocessing.sequence import pad_sequences\n",
        "from tensorflow.keras.utils import to_categorical\n",
        "from tensorflow.keras.layers import (Dense, Input, Dropout, Bidirectional, LSTM, Embedding, Layer)\n",
        "from tensorflow.keras.models import Model\n",
        "from tensorflow.keras.regularizers import l2\n",
        "from sklearn.preprocessing import LabelEncoder\n",
        "from sklearn.model_selection import train_test_split\n",
        "from sklearn.metrics import confusion_matrix, classification_report as sk_classification_report\n",
        "from imblearn.over_sampling import RandomOverSampler\n",
        "import matplotlib.pyplot as plt\n",
        "import re\n",
        "import pickle\n",
        "import os\n",
        "import io\n",
        "import random\n",
        "import nltk\n",
        "import gensim\n",
        "from gensim.models import KeyedVectors\n",
        "from tensorflow.keras.callbacks import EarlyStopping\n",
        "from Sastrawi.Stemmer.StemmerFactory import StemmerFactory\n",
        "from nltk.corpus import stopwords\n",
        "from seqeval.metrics import classification_report as seqeval_classification_report\n",
        "import tensorflow_addons as tfa\n",
        "nltk.download('stopwords')"
      ],
      "metadata": {
        "colab": {
          "base_uri": "https://localhost:8080/"
        },
        "id": "IfJF3HA4_8Va",
        "outputId": "9a548d3b-393f-46b1-b762-7bfd38430b86"
      },
      "execution_count": 7,
      "outputs": [
        {
          "output_type": "stream",
          "name": "stderr",
          "text": [
            "[nltk_data] Downloading package stopwords to /root/nltk_data...\n",
            "[nltk_data]   Package stopwords is already up-to-date!\n"
          ]
        },
        {
          "output_type": "execute_result",
          "data": {
            "text/plain": [
              "True"
            ]
          },
          "metadata": {},
          "execution_count": 7
        }
      ]
    },
    {
      "cell_type": "markdown",
      "source": [
        "# Memuat dan Memproses Data\n",
        "**1. Memuat Embedding FastText**\n",
        "\n",
        "FastText adalah model embedding kata yang dapat membantu chatbot memahami konteks kata dalam Bahasa Indonesia."
      ],
      "metadata": {
        "id": "F0tA9rtMADEC"
      }
    },
    {
      "cell_type": "code",
      "source": [
        "# # Download FastText\n",
        "# !wget -O id.tar.gz \"https://www.dropbox.com/scl/fi/sju4o3keikox69euw51vy/id.tar.gz?rlkey=5jr3ijtbdwfahq7xcgig28qvy&e=1&st=gntzkzeo&dl=1\"\n",
        "# !tar -xzf id.tar.gz"
      ],
      "metadata": {
        "id": "tE34_QN2E2jt"
      },
      "execution_count": 8,
      "outputs": []
    },
    {
      "cell_type": "code",
      "source": [
        "# Memuat FastText\n",
        "try:\n",
        "    fasttext_model = KeyedVectors.load_word2vec_format('id.vec', binary=False)\n",
        "    print(\"FastText 'id.vec' berhasil dimuat.\")\n",
        "except Exception as e:\n",
        "    print(f\"Gagal memuat 'id.vec': {e}\")\n",
        "    raise ValueError(\"Gagal memuat FastText.\")"
      ],
      "metadata": {
        "colab": {
          "base_uri": "https://localhost:8080/"
        },
        "id": "Vbt6XHdjANCU",
        "outputId": "b19ec9c7-abc1-4571-c147-836f4c32488c"
      },
      "execution_count": 9,
      "outputs": [
        {
          "output_type": "stream",
          "name": "stdout",
          "text": [
            "FastText 'id.vec' berhasil dimuat.\n"
          ]
        }
      ]
    },
    {
      "cell_type": "markdown",
      "source": [
        "**2. Memuat Data Percakapan dan Stopwords**\n",
        "\n",
        "Kita akan memuat data percakapan dari file JSON dan daftar stopwords khusus."
      ],
      "metadata": {
        "id": "dSw0D1_EAVwl"
      }
    },
    {
      "cell_type": "code",
      "source": [
        "# Memuat data percakapan\n",
        "with open('data2.json', 'r', encoding='utf-8') as f:\n",
        "    conversations = json.load(f)\n",
        "\n",
        "# Memuat stopwords khusus\n",
        "with open('stopword_list_tala.txt', 'r', encoding='utf-8') as f:\n",
        "    stop_words = f.read().splitlines()\n",
        "stop_words = set(word.strip().lower() for word in stop_words)\n",
        "\n",
        "# Inisialisasi stemmer\n",
        "factory = StemmerFactory()\n",
        "stemmer = factory.create_stemmer()"
      ],
      "metadata": {
        "id": "zDdclVzGAdJa"
      },
      "execution_count": 10,
      "outputs": []
    },
    {
      "cell_type": "markdown",
      "source": [
        "**3. Fungsi Pembersihan dan Preprocessing Teks**\n",
        "\n",
        "Fungsi ini akan membersihkan teks, menghapus stopwords, dan melakukan stemming untuk mempermudah pemrosesan selanjutnya."
      ],
      "metadata": {
        "id": "_jcye-AgAma7"
      }
    },
    {
      "cell_type": "code",
      "source": [
        "def clean_text(text):\n",
        "    \"\"\"\n",
        "    Mengubah teks menjadi huruf kecil dan menghapus karakter non-alfanumerik.\n",
        "    \"\"\"\n",
        "    text = text.lower()\n",
        "    text = re.sub(r'[^\\w\\s]', '', text)\n",
        "    return text.strip()\n",
        "\n",
        "def preprocess_text(text):\n",
        "    \"\"\"\n",
        "    Membersihkan teks, menghapus stopwords, dan melakukan stemming.\n",
        "    \"\"\"\n",
        "    text = clean_text(text)\n",
        "    tokens = text.split()\n",
        "    tokens = [w for w in tokens if w not in stop_words]\n",
        "    tokens = [stemmer.stem(w) for w in tokens]\n",
        "    return ' '.join(tokens)"
      ],
      "metadata": {
        "id": "qmTOFIiAAoEj"
      },
      "execution_count": 11,
      "outputs": []
    },
    {
      "cell_type": "markdown",
      "source": [
        "**4. Mengubah Offset Karakter menjadi Label Token untuk NER**\n",
        "\n",
        "Data entitas biasanya diberikan dalam bentuk offset karakter. Kita perlu mengubahnya menjadi label per token untuk digunakan dalam model NER."
      ],
      "metadata": {
        "id": "WhAKibllA5DB"
      }
    },
    {
      "cell_type": "code",
      "source": [
        "def char_offset_to_token_labels(utterance, entities, tokenizer=lambda x: x.split()):\n",
        "    \"\"\"\n",
        "    Mengubah offset karakter menjadi label token untuk NER.\n",
        "    \"\"\"\n",
        "    tokens = tokenizer(utterance)\n",
        "    labels = [\"O\"] * len(tokens)\n",
        "    char_pos = 0\n",
        "    token_ranges = []\n",
        "    for t in tokens:\n",
        "        start_pos = char_pos\n",
        "        end_pos = start_pos + len(t)\n",
        "        token_ranges.append((start_pos, end_pos))\n",
        "        char_pos = end_pos + 1\n",
        "    for ent in entities:\n",
        "        ent_start = ent['start']\n",
        "        ent_end = ent['end']\n",
        "        ent_type = ent['entity'].upper()\n",
        "        ent_token_positions = []\n",
        "        for i, (ts, te) in enumerate(token_ranges):\n",
        "            if not (te <= ent_start or ts >= ent_end):\n",
        "                ent_token_positions.append(i)\n",
        "        if len(ent_token_positions) > 0:\n",
        "            labels[ent_token_positions[0]] = \"B-\" + ent_type\n",
        "            for p in ent_token_positions[1:]:\n",
        "                labels[p] = \"I-\" + ent_type\n",
        "    return tokens, labels"
      ],
      "metadata": {
        "id": "EeLH0yrjA8pM"
      },
      "execution_count": 12,
      "outputs": []
    },
    {
      "cell_type": "markdown",
      "source": [
        "**5. Ekstraksi Utterance Pengguna, Intent, dan Entitas**\n",
        "\n",
        "Kita akan mengurai data percakapan untuk mendapatkan utterance dari pengguna, intent, dan entitas yang terdeteksi."
      ],
      "metadata": {
        "id": "igdwA0OzBEyZ"
      }
    },
    {
      "cell_type": "code",
      "source": [
        "user_utterances = []\n",
        "intents = []\n",
        "entity_labels = []\n",
        "\n",
        "for conv in conversations:\n",
        "    for turn in conv[\"turns\"]:\n",
        "        if turn[\"speaker\"] == \"user\":\n",
        "            utt = turn[\"utterance\"]\n",
        "            ents = turn.get(\"entities\", [])\n",
        "            intent = turn.get(\"intent\", \"None\")\n",
        "            tokens, ner_tags = char_offset_to_token_labels(utt, ents)\n",
        "            user_utterances.append(tokens)\n",
        "            intents.append(intent)\n",
        "            entity_labels.append(ner_tags)\n",
        "\n",
        "# Menggabungkan token kembali menjadi string\n",
        "utterances_joined = [' '.join(utt) for utt in user_utterances]\n",
        "utterances_clean = [preprocess_text(u) for u in utterances_joined]\n",
        "\n",
        "# Membuat DataFrame\n",
        "df_data = pd.DataFrame({\n",
        "    'utterances': utterances_joined,\n",
        "    'intent': intents,\n",
        "    'entities': entity_labels,\n",
        "    'utterances_clean': utterances_clean\n",
        "})"
      ],
      "metadata": {
        "id": "pXAToOAMBBXv"
      },
      "execution_count": 13,
      "outputs": []
    },
    {
      "cell_type": "markdown",
      "source": [
        "**6. Mengkodekan Label Intent**\n",
        "\n",
        "Mengubah label intent tekstual menjadi label numerik agar bisa digunakan dalam model machine learning."
      ],
      "metadata": {
        "id": "D-06F40_BPpH"
      }
    },
    {
      "cell_type": "code",
      "source": [
        "label_encoder = LabelEncoder()\n",
        "df_data['intent_label'] = label_encoder.fit_transform(df_data['intent'])"
      ],
      "metadata": {
        "id": "EKwIijfUBMhk"
      },
      "execution_count": 14,
      "outputs": []
    },
    {
      "cell_type": "markdown",
      "source": [
        "**7. Menangani Ketidakseimbangan Kelas dengan Random OverSampling**\n",
        "\n",
        "Agar model tidak bias terhadap kelas yang lebih dominan, kita akan menyeimbangkan dataset menggunakan teknik oversampling."
      ],
      "metadata": {
        "id": "hnAvVYKqBTTQ"
      }
    },
    {
      "cell_type": "code",
      "source": [
        "ros = RandomOverSampler(random_state=42)\n",
        "X = df_data.index.values.reshape(-1, 1)\n",
        "y = df_data['intent_label']\n",
        "X_ros, y_ros = ros.fit_resample(X, y)\n",
        "df_balanced = df_data.loc[X_ros.flatten()].reset_index(drop=True)\n",
        "df_balanced['intent_label'] = y_ros\n",
        "df_balanced['intent'] = label_encoder.inverse_transform(df_balanced['intent_label'])"
      ],
      "metadata": {
        "id": "gDoAa9xEBWgU"
      },
      "execution_count": 15,
      "outputs": []
    },
    {
      "cell_type": "markdown",
      "source": [
        "**8. Menyiapkan Data untuk Pelatihan dan Validasi**\n",
        "\n",
        "Membagi data menjadi set pelatihan dan validasi untuk mengevaluasi performa model."
      ],
      "metadata": {
        "id": "ZLW0wqNvBc77"
      }
    },
    {
      "cell_type": "code",
      "source": [
        "texts = df_balanced['utterances_clean'].tolist()\n",
        "labels = df_balanced['intent_label'].tolist()\n",
        "\n",
        "train_texts, val_texts, train_labels, val_labels = train_test_split(\n",
        "    texts,\n",
        "    labels,\n",
        "    test_size=0.2,\n",
        "    random_state=42,\n",
        "    stratify=labels\n",
        ")"
      ],
      "metadata": {
        "id": "Rw_prStrBcfz"
      },
      "execution_count": 16,
      "outputs": []
    },
    {
      "cell_type": "markdown",
      "source": [
        "**9. Tokenisasi Data Teks**\n",
        "\n",
        "Mengubah teks menjadi urutan angka menggunakan tokenizer."
      ],
      "metadata": {
        "id": "WgqqJODuBgze"
      }
    },
    {
      "cell_type": "code",
      "source": [
        "tokenizer = tf.keras.preprocessing.text.Tokenizer(oov_token='')\n",
        "tokenizer.fit_on_texts(train_texts)\n",
        "word_index = tokenizer.word_index\n",
        "vocab_size = len(word_index) + 1\n",
        "\n",
        "train_sequences = tokenizer.texts_to_sequences(train_texts)\n",
        "val_sequences = tokenizer.texts_to_sequences(val_texts)\n",
        "max_seq_length = max(max(len(seq) for seq in train_sequences), max(len(seq) for seq in val_sequences))\n",
        "print(\"max_seq_length:\", max_seq_length)\n",
        "\n",
        "train_padded = pad_sequences(train_sequences, maxlen=max_seq_length, padding='post')\n",
        "val_padded = pad_sequences(val_sequences, maxlen=max_seq_length, padding='post')"
      ],
      "metadata": {
        "colab": {
          "base_uri": "https://localhost:8080/"
        },
        "id": "U36psvmYBZRo",
        "outputId": "22ff2e98-4186-428d-9f08-51dec0ca2cdb"
      },
      "execution_count": 17,
      "outputs": [
        {
          "output_type": "stream",
          "name": "stdout",
          "text": [
            "max_seq_length: 9\n"
          ]
        }
      ]
    },
    {
      "cell_type": "markdown",
      "source": [
        "**10. One-Hot Encode Label**\n",
        "\n",
        "Mengubah label menjadi format kategorikal agar bisa digunakan dalam pelatihan model."
      ],
      "metadata": {
        "id": "CTF8bQWzBs6C"
      }
    },
    {
      "cell_type": "code",
      "source": [
        "num_classes = len(label_encoder.classes_)\n",
        "train_labels_cat = to_categorical(train_labels, num_classes=num_classes)\n",
        "val_labels_cat = to_categorical(val_labels, num_classes=num_classes)"
      ],
      "metadata": {
        "id": "IvSBLpSeBzo4"
      },
      "execution_count": 18,
      "outputs": []
    },
    {
      "cell_type": "markdown",
      "source": [
        "**11. Membuat Matriks Embedding**\n",
        "\n",
        "Membuat matriks embedding menggunakan embedding FastText. Jika kata tidak ada dalam FastText, kita mengisinya dengan vektor acak."
      ],
      "metadata": {
        "id": "ap9S5rotB2L5"
      }
    },
    {
      "cell_type": "code",
      "source": [
        "embedding_dim = 300\n",
        "embedding_matrix = np.zeros((vocab_size, embedding_dim))\n",
        "for word, idx in word_index.items():\n",
        "    if word in fasttext_model:\n",
        "        embedding_matrix[idx] = fasttext_model[word]\n",
        "    else:\n",
        "        embedding_matrix[idx] = np.random.normal(scale=0.6, size=(embedding_dim,))"
      ],
      "metadata": {
        "id": "vbfQN6CrB5o5"
      },
      "execution_count": 19,
      "outputs": []
    },
    {
      "cell_type": "markdown",
      "source": [
        "**12. Menyiapkan Label NER**\n",
        "\n",
        "Mengubah label entitas menjadi format yang bisa diproses oleh model NER."
      ],
      "metadata": {
        "id": "SzVcm3QzB-R-"
      }
    },
    {
      "cell_type": "code",
      "source": [
        "# Mengumpulkan semua label NER unik\n",
        "all_labels = set()\n",
        "for tags in df_balanced['entities']:\n",
        "    for t in tags:\n",
        "        if t != 'O':\n",
        "            all_labels.add(t)\n",
        "all_labels.add('O')\n",
        "all_labels = sorted(list(all_labels))\n",
        "\n",
        "ner_label_encoder = {label: idx for idx, label in enumerate(all_labels)}\n",
        "ner_label_decoder = {idx: label for label, idx in ner_label_encoder.items()}\n",
        "\n",
        "def encode_tags(tags, max_len):\n",
        "    tag_ids = [ner_label_encoder[t] for t in tags]\n",
        "    tag_ids = tag_ids[:max_len] + [ner_label_encoder['O']]*(max_len - len(tag_ids))\n",
        "    return tag_ids\n",
        "\n",
        "def text_to_sequence(text):\n",
        "    seq = tokenizer.texts_to_sequences([text])\n",
        "    return seq[0]\n",
        "\n",
        "# Menyiapkan data NER\n",
        "X_ner = []\n",
        "Y_ner = []\n",
        "for i, row in df_balanced.iterrows():\n",
        "    seq = text_to_sequence(row['utterances_clean'])\n",
        "    seq_padded = seq[:max_seq_length] + [0]*(max_seq_length - len(seq))\n",
        "    X_ner.append(seq_padded)\n",
        "    tag_ids = encode_tags(row['entities'], max_seq_length)\n",
        "    Y_ner.append(tag_ids)\n",
        "\n",
        "X_ner = np.array(X_ner)\n",
        "Y_ner = np.array(Y_ner)\n",
        "Y_ner = to_categorical(Y_ner, num_classes=len(ner_label_encoder))\n",
        "\n",
        "# Membagi data menjadi set pelatihan dan validasi\n",
        "train_texts_ner, val_texts_ner, train_labels_ner, val_labels_ner = train_test_split(\n",
        "    X_ner,\n",
        "    Y_ner,\n",
        "    test_size=0.2,\n",
        "    random_state=42\n",
        ")"
      ],
      "metadata": {
        "id": "DTI_b6zVCBsH"
      },
      "execution_count": 20,
      "outputs": []
    },
    {
      "cell_type": "markdown",
      "source": [
        "# Membangun Model Klasifikasi Intent\n",
        "**1. Mendefinisikan Layer Attention**\n",
        "\n",
        "Layer attention membantu model fokus pada bagian penting dari input saat memproses data."
      ],
      "metadata": {
        "id": "DImqXm5ECI5q"
      }
    },
    {
      "cell_type": "code",
      "source": [
        "@tf.keras.utils.register_keras_serializable(package='Custom')\n",
        "class AttentionLayer(Layer):\n",
        "    def __init__(self, **kwargs):\n",
        "        super(AttentionLayer, self).__init__(**kwargs)\n",
        "\n",
        "    def build(self, input_shape):\n",
        "        self.W = self.add_weight(name='att_weight', shape=(input_shape[-1], 1),\n",
        "                                 initializer='glorot_uniform', trainable=True)\n",
        "        self.b = self.add_weight(name='att_bias', shape=(1,),\n",
        "                                 initializer='zeros', trainable=True)\n",
        "        super(AttentionLayer, self).build(input_shape)\n",
        "\n",
        "    def call(self, x):\n",
        "        e = tf.squeeze(tf.tensordot(x, self.W, axes=1), axis=-1) + self.b\n",
        "        alpha = tf.nn.softmax(e)\n",
        "        alpha = tf.expand_dims(alpha, axis=-1)\n",
        "        context = x * alpha\n",
        "        return tf.reduce_sum(context, axis=1)"
      ],
      "metadata": {
        "id": "1LNlvou4CLZZ"
      },
      "execution_count": 21,
      "outputs": []
    },
    {
      "cell_type": "markdown",
      "source": [
        "**2. Membangun Model Klasifikasi Intent**\n",
        "\n",
        "Menggunakan layer embedding, LSTM bidirectional, attention, dan dense layer untuk membangun model klasifikasi intent."
      ],
      "metadata": {
        "id": "Kv_c5v_rCUp3"
      }
    },
    {
      "cell_type": "code",
      "source": [
        "def build_intent_model(embedding_matrix, max_seq_length, num_classes, l2_reg=1e-3):\n",
        "    inputs = Input(shape=(max_seq_length,), dtype='int32')\n",
        "    emb = Embedding(input_dim=embedding_matrix.shape[0],\n",
        "                    output_dim=embedding_matrix.shape[1],\n",
        "                    weights=[embedding_matrix],\n",
        "                    input_length=max_seq_length,\n",
        "                    trainable=True, mask_zero=True)(inputs)\n",
        "    x = Bidirectional(LSTM(128, return_sequences=True, dropout=0.3, recurrent_dropout=0.3))(emb)\n",
        "    att = AttentionLayer()(x)\n",
        "    dense = Dense(128, activation='relu', kernel_regularizer=l2(l2_reg))(att)\n",
        "    dropout = Dropout(0.5)(dense)\n",
        "    outputs = Dense(num_classes, activation='softmax')(dropout)\n",
        "    model = Model(inputs=inputs, outputs=outputs)\n",
        "    model.compile(optimizer='adam', loss='categorical_crossentropy', metrics=['accuracy'])\n",
        "    return model"
      ],
      "metadata": {
        "id": "AfDvWMlcCQpg"
      },
      "execution_count": 22,
      "outputs": []
    },
    {
      "cell_type": "markdown",
      "source": [
        "**3. Melatih Model Klasifikasi Intent**\n",
        "\n",
        "Melatih model dengan data pelatihan dan memantau performa pada data validasi menggunakan early stopping."
      ],
      "metadata": {
        "id": "aKZCGAwzCYVu"
      }
    },
    {
      "cell_type": "code",
      "source": [
        "model_intent = build_intent_model(embedding_matrix, max_seq_length, num_classes)\n",
        "early_intent = EarlyStopping(monitor='val_loss', patience=5, restore_best_weights=True)\n",
        "\n",
        "history_intent = model_intent.fit(\n",
        "    train_padded, train_labels_cat,\n",
        "    validation_data=(val_padded, val_labels_cat),\n",
        "    epochs=30, batch_size=16,\n",
        "    callbacks=[early_intent]\n",
        ")"
      ],
      "metadata": {
        "colab": {
          "base_uri": "https://localhost:8080/"
        },
        "id": "-cM4fOM9Ccc-",
        "outputId": "8ce1fa6b-4955-4f3e-d362-0a1ca8eebc14"
      },
      "execution_count": 23,
      "outputs": [
        {
          "output_type": "stream",
          "name": "stdout",
          "text": [
            "Epoch 1/30\n",
            "18/18 [==============================] - 29s 382ms/step - loss: 1.6243 - accuracy: 0.4357 - val_loss: 1.3007 - val_accuracy: 0.4571\n",
            "Epoch 2/30\n",
            "18/18 [==============================] - 5s 262ms/step - loss: 1.0653 - accuracy: 0.6714 - val_loss: 0.7384 - val_accuracy: 0.8286\n",
            "Epoch 3/30\n",
            "18/18 [==============================] - 3s 141ms/step - loss: 0.6087 - accuracy: 0.8679 - val_loss: 0.4841 - val_accuracy: 0.9000\n",
            "Epoch 4/30\n",
            "18/18 [==============================] - 2s 98ms/step - loss: 0.3811 - accuracy: 0.9179 - val_loss: 0.3739 - val_accuracy: 0.9000\n",
            "Epoch 5/30\n",
            "18/18 [==============================] - 2s 138ms/step - loss: 0.2607 - accuracy: 0.9714 - val_loss: 0.2831 - val_accuracy: 0.9429\n",
            "Epoch 6/30\n",
            "18/18 [==============================] - 2s 95ms/step - loss: 0.2200 - accuracy: 0.9893 - val_loss: 0.3532 - val_accuracy: 0.9286\n",
            "Epoch 7/30\n",
            "18/18 [==============================] - 1s 74ms/step - loss: 0.1691 - accuracy: 0.9893 - val_loss: 0.2844 - val_accuracy: 0.9429\n",
            "Epoch 8/30\n",
            "18/18 [==============================] - 1s 76ms/step - loss: 0.1558 - accuracy: 0.9929 - val_loss: 0.3433 - val_accuracy: 0.9143\n",
            "Epoch 9/30\n",
            "18/18 [==============================] - 1s 74ms/step - loss: 0.1580 - accuracy: 0.9893 - val_loss: 0.3158 - val_accuracy: 0.9571\n",
            "Epoch 10/30\n",
            "18/18 [==============================] - 1s 74ms/step - loss: 0.1313 - accuracy: 0.9929 - val_loss: 0.2381 - val_accuracy: 0.9571\n",
            "Epoch 11/30\n",
            "18/18 [==============================] - 1s 77ms/step - loss: 0.1221 - accuracy: 1.0000 - val_loss: 0.2692 - val_accuracy: 0.9286\n",
            "Epoch 12/30\n",
            "18/18 [==============================] - 1s 74ms/step - loss: 0.1199 - accuracy: 0.9964 - val_loss: 0.2916 - val_accuracy: 0.9286\n",
            "Epoch 13/30\n",
            "18/18 [==============================] - 2s 90ms/step - loss: 0.1144 - accuracy: 0.9964 - val_loss: 0.3078 - val_accuracy: 0.9571\n",
            "Epoch 14/30\n",
            "18/18 [==============================] - 2s 138ms/step - loss: 0.1029 - accuracy: 0.9964 - val_loss: 0.2809 - val_accuracy: 0.9571\n",
            "Epoch 15/30\n",
            "18/18 [==============================] - 2s 130ms/step - loss: 0.0969 - accuracy: 1.0000 - val_loss: 0.2251 - val_accuracy: 0.9571\n",
            "Epoch 16/30\n",
            "18/18 [==============================] - 1s 75ms/step - loss: 0.0927 - accuracy: 1.0000 - val_loss: 0.2618 - val_accuracy: 0.9571\n",
            "Epoch 17/30\n",
            "18/18 [==============================] - 1s 75ms/step - loss: 0.0898 - accuracy: 0.9964 - val_loss: 0.2216 - val_accuracy: 0.9571\n",
            "Epoch 18/30\n",
            "18/18 [==============================] - 1s 74ms/step - loss: 0.0915 - accuracy: 0.9964 - val_loss: 0.2325 - val_accuracy: 0.9571\n",
            "Epoch 19/30\n",
            "18/18 [==============================] - 1s 74ms/step - loss: 0.0778 - accuracy: 1.0000 - val_loss: 0.2321 - val_accuracy: 0.9571\n",
            "Epoch 20/30\n",
            "18/18 [==============================] - 1s 75ms/step - loss: 0.0751 - accuracy: 1.0000 - val_loss: 0.1614 - val_accuracy: 0.9714\n",
            "Epoch 21/30\n",
            "18/18 [==============================] - 1s 75ms/step - loss: 0.0704 - accuracy: 1.0000 - val_loss: 0.1602 - val_accuracy: 0.9571\n",
            "Epoch 22/30\n",
            "18/18 [==============================] - 1s 75ms/step - loss: 0.0669 - accuracy: 1.0000 - val_loss: 0.1650 - val_accuracy: 0.9429\n",
            "Epoch 23/30\n",
            "18/18 [==============================] - 2s 119ms/step - loss: 0.0648 - accuracy: 1.0000 - val_loss: 0.1587 - val_accuracy: 0.9571\n",
            "Epoch 24/30\n",
            "18/18 [==============================] - 2s 137ms/step - loss: 0.0609 - accuracy: 1.0000 - val_loss: 0.1546 - val_accuracy: 0.9571\n",
            "Epoch 25/30\n",
            "18/18 [==============================] - 2s 91ms/step - loss: 0.0575 - accuracy: 1.0000 - val_loss: 0.1502 - val_accuracy: 0.9571\n",
            "Epoch 26/30\n",
            "18/18 [==============================] - 1s 74ms/step - loss: 0.0556 - accuracy: 1.0000 - val_loss: 0.1518 - val_accuracy: 0.9571\n",
            "Epoch 27/30\n",
            "18/18 [==============================] - 1s 80ms/step - loss: 0.0524 - accuracy: 1.0000 - val_loss: 0.1636 - val_accuracy: 0.9571\n",
            "Epoch 28/30\n",
            "18/18 [==============================] - 1s 75ms/step - loss: 0.0500 - accuracy: 1.0000 - val_loss: 0.1468 - val_accuracy: 0.9714\n",
            "Epoch 29/30\n",
            "18/18 [==============================] - 1s 75ms/step - loss: 0.0485 - accuracy: 1.0000 - val_loss: 0.1476 - val_accuracy: 0.9571\n",
            "Epoch 30/30\n",
            "18/18 [==============================] - 1s 74ms/step - loss: 0.0449 - accuracy: 1.0000 - val_loss: 0.1586 - val_accuracy: 0.9571\n"
          ]
        }
      ]
    },
    {
      "cell_type": "markdown",
      "source": [
        "# Membangun Model NER dengan CRF\n",
        "**1. Mendefinisikan Loss dan Metrics CRF**\n",
        "\n",
        "CRF (Conditional Random Fields) membantu model NER dalam menangkap dependensi antar label."
      ],
      "metadata": {
        "id": "p_ck-ZpvCjdO"
      }
    },
    {
      "cell_type": "code",
      "source": [
        "num_entities = len(ner_label_encoder)\n",
        "transition_params = tf.Variable(tf.random.uniform(shape=(num_entities, num_entities)))\n",
        "\n",
        "def build_ner_crf_model(embedding_matrix, max_seq_length, num_entities):\n",
        "    inputs = Input(shape=(max_seq_length,))\n",
        "    emb = Embedding(input_dim=embedding_matrix.shape[0],\n",
        "                    output_dim=embedding_matrix.shape[1],\n",
        "                    weights=[embedding_matrix],\n",
        "                    trainable=True, mask_zero=False)(inputs)\n",
        "    x = Bidirectional(LSTM(128, return_sequences=True, dropout=0.3, recurrent_dropout=0.3))(emb)\n",
        "    x = Bidirectional(LSTM(128, return_sequences=True, dropout=0.3, recurrent_dropout=0.3))(x)\n",
        "    logits = Dense(num_entities)(x)\n",
        "    model = Model(inputs, logits)\n",
        "    return model\n",
        "\n",
        "def crf_loss(y_true, y_pred):\n",
        "    y_true_idx = tf.argmax(y_true, axis=-1)\n",
        "    log_likelihood, _ = tfa.text.crf_log_likelihood(y_pred, y_true_idx,\n",
        "                                                    tf.fill([tf.shape(y_pred)[0]], max_seq_length),\n",
        "                                                    transition_params)\n",
        "    return -tf.reduce_mean(log_likelihood)\n",
        "\n",
        "def crf_viterbi_accuracy(y_true, y_pred):\n",
        "    y_true_idx = tf.argmax(y_true, axis=-1, output_type=tf.int32)\n",
        "    viterbi_seq, _ = tfa.text.crf_decode(y_pred, transition_params, tf.fill([tf.shape(y_pred)[0]], max_seq_length))\n",
        "    match = tf.cast(tf.equal(y_true_idx, viterbi_seq), tf.float32)\n",
        "    return tf.reduce_mean(match)"
      ],
      "metadata": {
        "id": "y4-pE-iECl_K"
      },
      "execution_count": 24,
      "outputs": []
    },
    {
      "cell_type": "markdown",
      "source": [
        "**2. Membangun dan Mengompilasi Model NER**"
      ],
      "metadata": {
        "id": "ilKPITvFCpL1"
      }
    },
    {
      "cell_type": "code",
      "source": [
        "model_ner_crf = build_ner_crf_model(embedding_matrix, max_seq_length, num_entities)\n",
        "model_ner_crf.compile(optimizer='adam', loss=crf_loss, metrics=[crf_viterbi_accuracy])"
      ],
      "metadata": {
        "id": "_ern1FkGCusC"
      },
      "execution_count": 25,
      "outputs": []
    },
    {
      "cell_type": "markdown",
      "source": [
        "**3. Melatih Model NER**\n",
        "\n",
        "Melatih model NER dengan data pelatihan dan memantau performa pada data validasi menggunakan early stopping."
      ],
      "metadata": {
        "id": "BEhx31vdCxJ3"
      }
    },
    {
      "cell_type": "code",
      "source": [
        "early_ner = EarlyStopping(monitor='val_loss', patience=5, restore_best_weights=True)\n",
        "\n",
        "history_ner = model_ner_crf.fit(\n",
        "    train_texts_ner, train_labels_ner,\n",
        "    validation_data=(val_texts_ner, val_labels_ner),\n",
        "    epochs=30, batch_size=16,\n",
        "    callbacks=[early_ner]\n",
        ")"
      ],
      "metadata": {
        "colab": {
          "base_uri": "https://localhost:8080/"
        },
        "id": "m27uGIa5Cz0y",
        "outputId": "4602d4c6-aa7e-475e-e96f-7331f21fdb21"
      },
      "execution_count": 26,
      "outputs": [
        {
          "output_type": "stream",
          "name": "stdout",
          "text": [
            "Epoch 1/30\n",
            "18/18 [==============================] - 23s 222ms/step - loss: 12.4290 - crf_viterbi_accuracy: 0.6447 - val_loss: 6.9357 - val_crf_viterbi_accuracy: 0.7523\n",
            "Epoch 2/30\n",
            "18/18 [==============================] - 2s 132ms/step - loss: 6.2980 - crf_viterbi_accuracy: 0.7581 - val_loss: 6.3512 - val_crf_viterbi_accuracy: 0.7824\n",
            "Epoch 3/30\n",
            "18/18 [==============================] - 2s 126ms/step - loss: 5.3548 - crf_viterbi_accuracy: 0.7720 - val_loss: 5.5038 - val_crf_viterbi_accuracy: 0.7875\n",
            "Epoch 4/30\n",
            "18/18 [==============================] - 3s 191ms/step - loss: 4.7236 - crf_viterbi_accuracy: 0.7944 - val_loss: 5.1159 - val_crf_viterbi_accuracy: 0.7949\n",
            "Epoch 5/30\n",
            "18/18 [==============================] - 4s 201ms/step - loss: 4.2735 - crf_viterbi_accuracy: 0.8121 - val_loss: 4.8458 - val_crf_viterbi_accuracy: 0.8343\n",
            "Epoch 6/30\n",
            "18/18 [==============================] - 2s 128ms/step - loss: 3.9077 - crf_viterbi_accuracy: 0.8391 - val_loss: 4.6188 - val_crf_viterbi_accuracy: 0.8481\n",
            "Epoch 7/30\n",
            "18/18 [==============================] - 2s 130ms/step - loss: 3.6989 - crf_viterbi_accuracy: 0.8422 - val_loss: 4.4442 - val_crf_viterbi_accuracy: 0.8463\n",
            "Epoch 8/30\n",
            "18/18 [==============================] - 2s 134ms/step - loss: 3.4649 - crf_viterbi_accuracy: 0.8596 - val_loss: 4.6544 - val_crf_viterbi_accuracy: 0.8616\n",
            "Epoch 9/30\n",
            "18/18 [==============================] - 2s 136ms/step - loss: 3.2465 - crf_viterbi_accuracy: 0.8630 - val_loss: 4.2599 - val_crf_viterbi_accuracy: 0.8676\n",
            "Epoch 10/30\n",
            "18/18 [==============================] - 5s 281ms/step - loss: 2.9935 - crf_viterbi_accuracy: 0.8773 - val_loss: 4.3045 - val_crf_viterbi_accuracy: 0.8741\n",
            "Epoch 11/30\n",
            "18/18 [==============================] - 2s 130ms/step - loss: 2.8370 - crf_viterbi_accuracy: 0.8846 - val_loss: 4.1766 - val_crf_viterbi_accuracy: 0.8838\n",
            "Epoch 12/30\n",
            "18/18 [==============================] - 2s 127ms/step - loss: 2.6424 - crf_viterbi_accuracy: 0.9008 - val_loss: 4.1699 - val_crf_viterbi_accuracy: 0.8810\n",
            "Epoch 13/30\n",
            "18/18 [==============================] - 2s 125ms/step - loss: 2.5191 - crf_viterbi_accuracy: 0.9008 - val_loss: 4.1310 - val_crf_viterbi_accuracy: 0.8880\n",
            "Epoch 14/30\n",
            "18/18 [==============================] - 2s 127ms/step - loss: 2.3922 - crf_viterbi_accuracy: 0.9070 - val_loss: 4.1945 - val_crf_viterbi_accuracy: 0.8745\n",
            "Epoch 15/30\n",
            "18/18 [==============================] - 4s 231ms/step - loss: 2.2821 - crf_viterbi_accuracy: 0.9090 - val_loss: 4.0798 - val_crf_viterbi_accuracy: 0.8884\n",
            "Epoch 16/30\n",
            "18/18 [==============================] - 3s 143ms/step - loss: 2.0478 - crf_viterbi_accuracy: 0.9163 - val_loss: 4.1943 - val_crf_viterbi_accuracy: 0.9005\n",
            "Epoch 17/30\n",
            "18/18 [==============================] - 2s 126ms/step - loss: 1.9017 - crf_viterbi_accuracy: 0.9228 - val_loss: 4.1956 - val_crf_viterbi_accuracy: 0.8940\n",
            "Epoch 18/30\n",
            "18/18 [==============================] - 2s 131ms/step - loss: 1.7502 - crf_viterbi_accuracy: 0.9336 - val_loss: 4.2251 - val_crf_viterbi_accuracy: 0.9060\n",
            "Epoch 19/30\n",
            "18/18 [==============================] - 2s 128ms/step - loss: 1.7981 - crf_viterbi_accuracy: 0.9286 - val_loss: 4.4086 - val_crf_viterbi_accuracy: 0.9005\n",
            "Epoch 20/30\n",
            "18/18 [==============================] - 3s 196ms/step - loss: 1.6467 - crf_viterbi_accuracy: 0.9352 - val_loss: 4.5290 - val_crf_viterbi_accuracy: 0.9005\n"
          ]
        }
      ]
    },
    {
      "cell_type": "markdown",
      "source": [
        "# Evaluasi Model\n",
        "**1. Plot Riwayat Pelatihan**\n",
        "\n",
        "Visualisasikan perkembangan loss dan akurasi selama pelatihan untuk kedua model."
      ],
      "metadata": {
        "id": "y0pMwy1aC7eb"
      }
    },
    {
      "cell_type": "code",
      "source": [
        "os.makedirs('models', exist_ok=True)"
      ],
      "metadata": {
        "id": "Mx_MhkXtSKDk"
      },
      "execution_count": 36,
      "outputs": []
    },
    {
      "cell_type": "code",
      "source": [
        "def plot_history(history, title):\n",
        "    plt.figure(figsize=(12,5))\n",
        "\n",
        "    # Plot Loss\n",
        "    plt.subplot(1,2,1)\n",
        "    plt.plot(history.history['loss'], label='Train Loss')\n",
        "    plt.plot(history.history['val_loss'], label='Val Loss')\n",
        "    plt.title(title + \" - Loss\")\n",
        "    plt.xlabel('Epoch')\n",
        "    plt.ylabel('Loss')\n",
        "    plt.legend()\n",
        "\n",
        "    # Plot Accuracy atau CRF Accuracy\n",
        "    if 'accuracy' in history.history:\n",
        "        plt.subplot(1,2,2)\n",
        "        plt.plot(history.history['accuracy'], label='Train Acc')\n",
        "        plt.plot(history.history['val_accuracy'], label='Val Acc')\n",
        "        plt.title(title + \" - Accuracy\")\n",
        "        plt.xlabel('Epoch')\n",
        "        plt.ylabel('Accuracy')\n",
        "        plt.legend()\n",
        "    elif 'crf_viterbi_accuracy' in history.history:\n",
        "        plt.subplot(1,2,2)\n",
        "        plt.plot(history.history['crf_viterbi_accuracy'], label='Train CRF Acc')\n",
        "        plt.plot(history.history['val_crf_viterbi_accuracy'], label='Val CRF Acc')\n",
        "        plt.title(title + \" - CRF Accuracy\")\n",
        "        plt.xlabel('Epoch')\n",
        "        plt.ylabel('CRF Accuracy')\n",
        "        plt.legend()\n",
        "\n",
        "    plt.tight_layout()\n",
        "\n",
        "    # Menyimpan plot sebagai gambar\n",
        "    plt.savefig(f'models/{title.replace(\" \", \"_\").lower()}_history.png')\n",
        "\n",
        "    # Menampilkan plot\n",
        "    plt.show()\n",
        "\n",
        "# Plot riwayat pelatihan dan menyimpan gambar\n",
        "plot_history(history_intent, \"Klasifikasi Intent\")\n",
        "print(\"\\n\")\n",
        "plot_history(history_ner, \"NER\")"
      ],
      "metadata": {
        "colab": {
          "base_uri": "https://localhost:8080/",
          "height": 1000
        },
        "id": "rlmrhBtjC-kC",
        "outputId": "696c1172-cb19-46f4-a243-903d481907f8"
      },
      "execution_count": 37,
      "outputs": [
        {
          "output_type": "display_data",
          "data": {
            "text/plain": [
              "<Figure size 1200x500 with 2 Axes>"
            ],
            "image/png": "[encoded data removed]"
          },
          "metadata": {}
        },
        {
          "output_type": "stream",
          "name": "stdout",
          "text": [
            "\n",
            "\n"
          ]
        },
        {
          "output_type": "display_data",
          "data": {
            "text/plain": [
              "<Figure size 1200x500 with 2 Axes>"
            ],
            "image/png": "[encoded data removed]"
          },
          "metadata": {}
        }
      ]
    },
    {
      "cell_type": "code",
      "source": [
        "# Menyimpan ringkasan model\n",
        "def save_model_summary(model, filename):\n",
        "    with open(filename, 'w') as f:\n",
        "        # Membuat buffer untuk menangkap ringkasan model\n",
        "        model_summary = io.StringIO()\n",
        "        model.summary(print_fn=lambda x: model_summary.write(x + '\\n'))\n",
        "        f.write(model_summary.getvalue())\n",
        "\n",
        "# Mengonversi history ke DataFrame dan menyimpannya sebagai CSV\n",
        "def save_history(history, filename):\n",
        "    hist_df = pd.DataFrame(history.history)\n",
        "    hist_df.to_csv(filename, index=False)"
      ],
      "metadata": {
        "id": "Np0uY0b3IuBh"
      },
      "execution_count": 30,
      "outputs": []
    },
    {
      "cell_type": "markdown",
      "source": [
        "**2. Evaluasi Model Klasifikasi Intent**\n",
        "\n",
        "Menilai performa model klasifikasi intent pada data validasi."
      ],
      "metadata": {
        "id": "PGeQyHPbDN4i"
      }
    },
    {
      "cell_type": "code",
      "source": [
        "loss_intent, acc_intent = model_intent.evaluate(val_padded, val_labels_cat)\n",
        "print(\"Akurasi Intent:\", acc_intent)"
      ],
      "metadata": {
        "colab": {
          "base_uri": "https://localhost:8080/"
        },
        "id": "RH27YgaBDTxA",
        "outputId": "ec310cc2-6ea2-414b-8e40-ddb2264807ec"
      },
      "execution_count": 31,
      "outputs": [
        {
          "output_type": "stream",
          "name": "stdout",
          "text": [
            "3/3 [==============================] - 0s 14ms/step - loss: 0.1586 - accuracy: 0.9571\n",
            "Akurasi Intent: 0.9571428298950195\n"
          ]
        }
      ]
    },
    {
      "cell_type": "markdown",
      "source": [
        "**3. Evaluasi Model NER**\n",
        "\n",
        "Menilai performa model NER pada data validasi."
      ],
      "metadata": {
        "id": "ztZkbjW4DV2V"
      }
    },
    {
      "cell_type": "code",
      "source": [
        "loss_ner_crf, acc_ner_crf = model_ner_crf.evaluate(val_texts_ner, val_labels_ner)\n",
        "print(\"Akurasi NER dengan CRF:\", acc_ner_crf)"
      ],
      "metadata": {
        "colab": {
          "base_uri": "https://localhost:8080/"
        },
        "id": "dz6kmPzcDaFa",
        "outputId": "09d9655e-e4c0-468b-c10b-973f31a1982e"
      },
      "execution_count": 32,
      "outputs": [
        {
          "output_type": "stream",
          "name": "stdout",
          "text": [
            "3/3 [==============================] - 0s 19ms/step - loss: 4.0798 - crf_viterbi_accuracy: 0.9008\n",
            "Akurasi NER dengan CRF: 0.9008486866950989\n"
          ]
        }
      ]
    },
    {
      "cell_type": "markdown",
      "source": [
        "**4. Laporan Klasifikasi Detail**\n",
        "\n",
        "Menghasilkan laporan detail untuk Klasifikasi Intent dan NER."
      ],
      "metadata": {
        "id": "ms54_RujDccX"
      }
    },
    {
      "cell_type": "code",
      "source": [
        "# Laporan Klasifikasi Intent\n",
        "val_pred_intent = model_intent.predict(val_padded)\n",
        "val_pred_intent_labels = np.argmax(val_pred_intent, axis=1)\n",
        "print(\"=== Laporan Klasifikasi Intent (Validasi) ===\")\n",
        "print(sk_classification_report(val_labels, val_pred_intent_labels, target_names=label_encoder.classes_))\n",
        "\n",
        "# Matriks Kebingungan untuk Intent\n",
        "cm = confusion_matrix(val_labels, val_pred_intent_labels)\n",
        "print(\"Matriks Kebingungan (Intent):\")\n",
        "print(cm)"
      ],
      "metadata": {
        "colab": {
          "base_uri": "https://localhost:8080/"
        },
        "id": "ngDToubwDgTd",
        "outputId": "654f5881-dbd3-4b9b-a3a8-f3484fca051d"
      },
      "execution_count": 33,
      "outputs": [
        {
          "output_type": "stream",
          "name": "stdout",
          "text": [
            "3/3 [==============================] - 1s 13ms/step\n",
            "=== Laporan Klasifikasi Intent (Validasi) ===\n",
            "                             precision    recall  f1-score   support\n",
            "\n",
            "                   Greeting       1.00      1.00      1.00        14\n",
            " Melaporkan Hewan Terlantar       0.93      1.00      0.97        14\n",
            "        Mendiagnosis Gejala       0.88      1.00      0.93        14\n",
            "Rekomendasi Penanganan Awal       1.00      0.79      0.88        14\n",
            "                     Thanks       1.00      1.00      1.00        14\n",
            "\n",
            "                   accuracy                           0.96        70\n",
            "                  macro avg       0.96      0.96      0.96        70\n",
            "               weighted avg       0.96      0.96      0.96        70\n",
            "\n",
            "Matriks Kebingungan (Intent):\n",
            "[[14  0  0  0  0]\n",
            " [ 0 14  0  0  0]\n",
            " [ 0  0 14  0  0]\n",
            " [ 0  1  2 11  0]\n",
            " [ 0  0  0  0 14]]\n"
          ]
        }
      ]
    },
    {
      "cell_type": "code",
      "source": [
        "# Laporan Klasifikasi NER\n",
        "val_pred_ner_logits = model_ner_crf.predict(val_texts_ner)\n",
        "viterbi_seq, _ = tfa.text.crf_decode(val_pred_ner_logits, transition_params, tf.fill([tf.shape(val_pred_ner_logits)[0]], max_seq_length))\n",
        "\n",
        "def decode_ner_prediction(viterbi_seq, true_labels, ner_label_decoder):\n",
        "    pred_tags = []\n",
        "    true_tags = []\n",
        "    for i in range(viterbi_seq.shape[0]):\n",
        "        pred_seq = []\n",
        "        true_seq = []\n",
        "        for j in range(viterbi_seq.shape[1]):\n",
        "            true_idx = np.argmax(true_labels[i][j])\n",
        "            true_tag = ner_label_decoder[true_idx]\n",
        "            pred_tag = ner_label_decoder[viterbi_seq[i][j].numpy()]\n",
        "            pred_seq.append(pred_tag)\n",
        "            true_seq.append(true_tag)\n",
        "        pred_tags.append(pred_seq)\n",
        "        true_tags.append(true_seq)\n",
        "    return true_tags, pred_tags\n",
        "\n",
        "true_tags, pred_tags = decode_ner_prediction(viterbi_seq, val_labels_ner, ner_label_decoder)\n",
        "print(\"=== Laporan Klasifikasi NER (Validasi) ===\")\n",
        "print(seqeval_classification_report(true_tags, pred_tags))"
      ],
      "metadata": {
        "colab": {
          "base_uri": "https://localhost:8080/"
        },
        "id": "IgIxizjtDn1l",
        "outputId": "54781d4d-6b39-47eb-c02c-593e6d33be5f"
      },
      "execution_count": 34,
      "outputs": [
        {
          "output_type": "stream",
          "name": "stdout",
          "text": [
            "3/3 [==============================] - 1s 19ms/step\n",
            "=== Laporan Klasifikasi NER (Validasi) ===\n",
            "              precision    recall  f1-score   support\n",
            "\n",
            "      ANIMAL       0.93      0.96      0.95        27\n",
            "   CONDITION       1.00      0.33      0.50         6\n",
            "    LOCATION       0.20      0.20      0.20         5\n",
            "      STATUS       0.00      0.00      0.00         4\n",
            "     SYMPTOM       0.38      0.31      0.34        48\n",
            "\n",
            "   micro avg       0.59      0.49      0.54        90\n",
            "   macro avg       0.50      0.36      0.40        90\n",
            "weighted avg       0.56      0.49      0.51        90\n",
            "\n"
          ]
        },
        {
          "output_type": "stream",
          "name": "stderr",
          "text": [
            "/usr/local/lib/python3.10/dist-packages/seqeval/metrics/v1.py:57: UndefinedMetricWarning: Precision and F-score are ill-defined and being set to 0.0 in labels with no predicted samples. Use `zero_division` parameter to control this behavior.\n",
            "  _warn_prf(average, modifier, msg_start, len(result))\n"
          ]
        }
      ]
    },
    {
      "cell_type": "markdown",
      "source": [
        "# Menyimpan Model dan Encoder\n",
        "Setelah model berhasil dilatih, kita akan menyimpan model dan encoder untuk digunakan."
      ],
      "metadata": {
        "id": "50PKAA06Drg5"
      }
    },
    {
      "cell_type": "code",
      "source": [
        "os.makedirs('models', exist_ok=True)\n",
        "os.makedirs('encoders', exist_ok=True)\n",
        "os.makedirs('data', exist_ok=True)\n",
        "\n",
        "# Menyimpan model\n",
        "model_intent.save('models/model_intent.keras')\n",
        "model_ner_crf.save('models/model_ner_crf.keras')\n",
        "\n",
        "# Menyimpan encoder dan tokenizer\n",
        "with open('encoders/tokenizer.pickle', 'wb') as handle:\n",
        "    pickle.dump(tokenizer, handle, protocol=pickle.HIGHEST_PROTOCOL)\n",
        "with open('encoders/label_encoder.pickle', 'wb') as handle:\n",
        "    pickle.dump(label_encoder, handle, protocol=pickle.HIGHEST_PROTOCOL)\n",
        "with open('encoders/ner_label_encoder.pickle', 'wb') as handle:\n",
        "    pickle.dump(ner_label_encoder, handle, protocol=pickle.HIGHEST_PROTOCOL)\n",
        "with open('encoders/transition_params.pickle', 'wb') as handle:\n",
        "    pickle.dump(transition_params.numpy(), handle, protocol=pickle.HIGHEST_PROTOCOL)\n",
        "\n",
        "print(\"Semua model, encoder, data, dan KB telah disimpan.\")"
      ],
      "metadata": {
        "colab": {
          "base_uri": "https://localhost:8080/"
        },
        "id": "cywgw_elDv5Z",
        "outputId": "0393ca88-9e3e-4c72-ecaf-f98d89abff74"
      },
      "execution_count": 38,
      "outputs": [
        {
          "output_type": "stream",
          "name": "stdout",
          "text": [
            "Semua model, encoder, data, dan KB telah disimpan.\n"
          ]
        }
      ]
    },
    {
      "cell_type": "markdown",
      "source": [
        "# Membangun Knowledge Base\n",
        "Kita akan membuat basis pengetahuan berbasis retrieval dari pasangan percakapan pengguna-bot."
      ],
      "metadata": {
        "id": "qmr26OmfD4HP"
      }
    },
    {
      "cell_type": "code",
      "source": [
        "# Mengumpulkan pasangan pengguna-bot\n",
        "pairs = []\n",
        "for conv in conversations:\n",
        "    turns = conv[\"turns\"]\n",
        "    for i in range(len(turns)-1):\n",
        "        if turns[i][\"speaker\"] == \"user\" and turns[i+1][\"speaker\"] == \"bot\":\n",
        "            user_utt_clean = preprocess_text(turns[i][\"utterance\"])\n",
        "            bot_utt = turns[i+1][\"utterance\"]\n",
        "            pairs.append((user_utt_clean, bot_utt))\n",
        "\n",
        "# Membuat DataFrame\n",
        "df_utterances = pd.DataFrame(pairs, columns=[\"utterances_clean\",\"bot_response\"])\n",
        "df_utterances.to_pickle('data/df_utterances.pkl')\n",
        "\n",
        "# Vectorisasi menggunakan TF-IDF\n",
        "from sklearn.feature_extraction.text import TfidfVectorizer\n",
        "vectorizer = TfidfVectorizer()\n",
        "X_tfidf = vectorizer.fit_transform(df_utterances['utterances_clean'])\n",
        "\n",
        "# Menyimpan vectorizer dan matriks TF-IDF\n",
        "with open('data/vectorizer.pickle', 'wb') as handle:\n",
        "    pickle.dump(vectorizer, handle, protocol=pickle.HIGHEST_PROTOCOL)\n",
        "with open('data/tfidf_matrix.pickle', 'wb') as handle:\n",
        "    pickle.dump(X_tfidf, handle, protocol=pickle.HIGHEST_PROTOCOL)"
      ],
      "metadata": {
        "id": "OAeg-m39D5yV"
      },
      "execution_count": 39,
      "outputs": []
    },
    {
      "cell_type": "markdown",
      "source": [
        "# Fungsi Respons Chatbot\n",
        "Definisikan fungsi-fungsi untuk memproses input pengguna dan menghasilkan respons yang sesuai."
      ],
      "metadata": {
        "id": "rYGA03F6EBVE"
      }
    },
    {
      "cell_type": "code",
      "source": [
        "def predict_intent_nb(text):\n",
        "    \"\"\"\n",
        "    Memprediksi intent dari input pengguna.\n",
        "    \"\"\"\n",
        "    text_clean = preprocess_text(text)\n",
        "    seq = tokenizer.texts_to_sequences([text_clean])\n",
        "    padded = pad_sequences(seq, maxlen=max_seq_length, padding='post')\n",
        "    pred = model_intent.predict(padded)\n",
        "    predicted_label = np.argmax(pred, axis=1)[0]\n",
        "    return label_encoder.inverse_transform([predicted_label])[0]\n",
        "\n",
        "def predict_entities_nb(text):\n",
        "    \"\"\"\n",
        "    Memprediksi entitas dalam input pengguna.\n",
        "    \"\"\"\n",
        "    text_clean = preprocess_text(text)\n",
        "    seq = tokenizer.texts_to_sequences([text_clean])\n",
        "    padded = pad_sequences(seq, maxlen=max_seq_length, padding='post')\n",
        "    logits = model_ner_crf.predict(padded)\n",
        "    viterbi_seq, _ = tfa.text.crf_decode(logits, transition_params, tf.fill([tf.shape(logits)[0]], max_seq_length))\n",
        "    tokens = text_clean.split()\n",
        "    entities = []\n",
        "    for idx, label_id in enumerate(viterbi_seq[0][:len(tokens)]):\n",
        "        label = ner_label_decoder[label_id.numpy()]\n",
        "        if label != 'O':\n",
        "            entity_type = label.split('-')[1].lower()\n",
        "            entities.append({'entity': entity_type, 'value': tokens[idx]})\n",
        "    return entities\n",
        "\n",
        "# Mapping intent ke jenis hewan\n",
        "intent_animal_mapping = {\n",
        "    \"Melaporkan Hewan Terlantar\": [\"kucing\", \"anjing\"],\n",
        "    \"Mendiagnosis Gejala\": [\"kucing\", \"anjing\"],\n",
        "    \"Rekomendasi Penanganan Awal\": [\"kucing\", \"anjing\"],\n",
        "    \"Konfirmasi Laporan\": [\"kucing\", \"anjing\"],\n",
        "    \"Tindak Lanjut Laporan\": [\"kucing\", \"anjing\"],\n",
        "    \"Rekomendasi Tindakan\": [\"kucing\", \"anjing\"]\n",
        "}\n",
        "\n",
        "def adjust_intent_nb(intent, entities):\n",
        "    \"\"\"\n",
        "    Menyesuaikan intent yang diprediksi berdasarkan entitas yang terdeteksi.\n",
        "    \"\"\"\n",
        "    predicted_animals = intent_animal_mapping.get(intent, None)\n",
        "    entity_animals = [ent['value'].lower() for ent in entities if ent['entity'] == 'animal']\n",
        "    if entity_animals and predicted_animals:\n",
        "        user_animal = entity_animals[0]\n",
        "        if user_animal not in predicted_animals:\n",
        "            for i_name, animals in intent_animal_mapping.items():\n",
        "                if user_animal in animals:\n",
        "                    intent = i_name\n",
        "                    break\n",
        "            else:\n",
        "                intent = None\n",
        "    return intent\n",
        "\n",
        "def get_default_response():\n",
        "    \"\"\"\n",
        "    Memberikan respons default ketika tidak ada jawaban yang sesuai ditemukan.\n",
        "    \"\"\"\n",
        "    default_responses = [\n",
        "        \"Maaf, saya belum bisa menjawab pertanyaan Anda.\",\n",
        "        \"Mohon diperjelas, saya belum mengerti konteksnya.\",\n",
        "        \"Silakan berikan informasi lebih detail.\",\n",
        "        \"Maaf, saya hanya diprogram untuk menjawab mengenai kucing dan anjing.\",\n",
        "        \"Saya sarankan konsultasi langsung ke dokter hewan.\"\n",
        "    ]\n",
        "    return random.choice(default_responses)\n",
        "\n",
        "from sklearn.metrics.pairwise import cosine_similarity\n",
        "\n",
        "def get_best_response(user_input):\n",
        "    \"\"\"\n",
        "    Mengambil respons terbaik dari knowledge base berdasarkan kemiripan input pengguna.\n",
        "    \"\"\"\n",
        "    user_query_clean = preprocess_text(user_input)\n",
        "    q_vec = vectorizer.transform([user_query_clean])\n",
        "    sims = cosine_similarity(q_vec, X_tfidf)  # (1, n)\n",
        "    best_idx = sims[0].argmax()\n",
        "    best_score = sims[0][best_idx]\n",
        "    if best_score < 0.5:\n",
        "        return None\n",
        "    else:\n",
        "        return df_utterances.iloc[best_idx]['bot_response']\n",
        "\n",
        "def get_response_nb(user_input, intent=None, entities=None):\n",
        "    \"\"\"\n",
        "    Menghasilkan respons berdasarkan intent dan entitas.\n",
        "    \"\"\"\n",
        "    if intent == \"Mendiagnosis Gejala\":\n",
        "        return \"Berdasarkan gejalanya, kemungkinan ada masalah kesehatan. Saya sarankan segera periksakan ke dokter hewan.\"\n",
        "    elif intent == \"Rekomendasi Penanganan Awal\":\n",
        "        return \"Cobalah langkah penanganan awal seperti menjaga kebersihan, memberikan makanan ringan, dan konsultasikan ke dokter hewan jika berlanjut.\"\n",
        "    else:\n",
        "        best_resp = get_best_response(user_input)\n",
        "        if best_resp:\n",
        "            return best_resp\n",
        "        else:\n",
        "            return get_default_response()\n",
        "\n",
        "def chatbot_response_nb(history, user_input):\n",
        "    \"\"\"\n",
        "    Memproses input pengguna dan menghasilkan respons chatbot.\n",
        "    \"\"\"\n",
        "    history.append(user_input)\n",
        "    intent = predict_intent_nb(user_input)\n",
        "    entities = predict_entities_nb(user_input)\n",
        "    adjusted_intent = adjust_intent_nb(intent, entities)\n",
        "    if adjusted_intent is None:\n",
        "        response = get_response_nb(user_input, None, entities)\n",
        "    else:\n",
        "        response = get_response_nb(user_input, adjusted_intent, entities)\n",
        "    return response"
      ],
      "metadata": {
        "id": "3jl3I9lhEDPf"
      },
      "execution_count": 40,
      "outputs": []
    },
    {
      "cell_type": "markdown",
      "source": [
        "# Pengujian Chatbot\n",
        "Mari kita uji chatbot dengan lima percakapan pertama dari dataset untuk melihat bagaimana performanya."
      ],
      "metadata": {
        "id": "ZYBLdY7TEH6e"
      }
    },
    {
      "cell_type": "markdown",
      "source": [
        "**5 data teratas dari data2.json**\n",
        "\n",
        "```bash\n",
        "[\n",
        "    {\n",
        "        \"conversation_id\": \"conv_001\",\n",
        "        \"turns\": [\n",
        "            {\n",
        "                \"speaker\": \"user\",\n",
        "                \"utterance\": \"Saya melihat seekor kucing sakit di depan toko.\",\n",
        "                \"entities\": [\n",
        "                    {\n",
        "                        \"entity\": \"animal\",\n",
        "                        \"value\": \"kucing\",\n",
        "                        \"start\": 15,\n",
        "                        \"end\": 21\n",
        "                    },\n",
        "                    {\n",
        "                        \"entity\": \"location\",\n",
        "                        \"value\": \"depan toko\",\n",
        "                        \"start\": 29,\n",
        "                        \"end\": 39\n",
        "                    }\n",
        "                ],\n",
        "                \"intent\": \"Melaporkan Hewan Terlantar\"\n",
        "            },\n",
        "            {\n",
        "                \"speaker\": \"bot\",\n",
        "                \"utterance\": \"Terima kasih atas laporannya. Apakah kucing tersebut menunjukkan gejala seperti demam atau muntah?\",\n",
        "                \"entities\": [],\n",
        "                \"intent\": \"Mendiagnosis Gejala\"\n",
        "            },\n",
        "            {\n",
        "                \"speaker\": \"user\",\n",
        "                \"utterance\": \"Kucing terlihat demam dan bersin-bersin.\",\n",
        "                \"entities\": [\n",
        "                    {\n",
        "                        \"entity\": \"animal\",\n",
        "                        \"value\": \"kucing\",\n",
        "                        \"start\": 0,\n",
        "                        \"end\": 6\n",
        "                    },\n",
        "                    {\n",
        "                        \"entity\": \"symptom\",\n",
        "                        \"value\": \"demam\",\n",
        "                        \"start\": 15,\n",
        "                        \"end\": 20\n",
        "                    },\n",
        "                    {\n",
        "                        \"entity\": \"symptom\",\n",
        "                        \"value\": \"bersin-bersin\",\n",
        "                        \"start\": 25,\n",
        "                        \"end\": 39\n",
        "                    }\n",
        "                ],\n",
        "                \"intent\": \"Mendiagnosis Gejala\"\n",
        "            },\n",
        "            {\n",
        "                \"speaker\": \"bot\",\n",
        "                \"utterance\": \"Kucing tersebut mungkin terkena Feline Calicivirus. Sebaiknya segera hubungi komunitas terdekat melalui fitur emergency.\",\n",
        "                \"entities\": [],\n",
        "                \"intent\": \"Rekomendasi Penanganan Awal\"\n",
        "            }\n",
        "        ]\n",
        "    },\n",
        "    {\n",
        "        \"conversation_id\": \"conv_002\",\n",
        "        \"turns\": [\n",
        "            {\n",
        "                \"speaker\": \"user\",\n",
        "                \"utterance\": \"Ada anjing terluka di jalan raya.\",\n",
        "                \"entities\": [\n",
        "                    {\n",
        "                        \"entity\": \"animal\",\n",
        "                        \"value\": \"anjing\",\n",
        "                        \"start\": 4,\n",
        "                        \"end\": 10\n",
        "                    },\n",
        "                    {\n",
        "                        \"entity\": \"location\",\n",
        "                        \"value\": \"jalan raya\",\n",
        "                        \"start\": 23,\n",
        "                        \"end\": 33\n",
        "                    }\n",
        "                ],\n",
        "                \"intent\": \"Melaporkan Hewan Terlantar\"\n",
        "            },\n",
        "            {\n",
        "                \"speaker\": \"bot\",\n",
        "                \"utterance\": \"Terima kasih atas informasinya. Apakah anjing tersebut mengalami muntah atau diare?\",\n",
        "                \"entities\": [],\n",
        "                \"intent\": \"Mendiagnosis Gejala\"\n",
        "            },\n",
        "            {\n",
        "                \"speaker\": \"user\",\n",
        "                \"utterance\": \"Ya, anjing muntah dan terlihat lemas.\",\n",
        "                \"entities\": [\n",
        "                    {\n",
        "                        \"entity\": \"animal\",\n",
        "                        \"value\": \"anjing\",\n",
        "                        \"start\": 4,\n",
        "                        \"end\": 10\n",
        "                    },\n",
        "                    {\n",
        "                        \"entity\": \"symptom\",\n",
        "                        \"value\": \"muntah\",\n",
        "                        \"start\": 11,\n",
        "                        \"end\": 17\n",
        "                    },\n",
        "                    {\n",
        "                        \"entity\": \"symptom\",\n",
        "                        \"value\": \"lemas\",\n",
        "                        \"start\": 30,\n",
        "                        \"end\": 35\n",
        "                    }\n",
        "                ],\n",
        "                \"intent\": \"Mendiagnosis Gejala\"\n",
        "            },\n",
        "            {\n",
        "                \"speaker\": \"bot\",\n",
        "                \"utterance\": \"Gejala ini dapat mengindikasikan Distemper. Gunakan fitur emergency untuk melaporkan anjing tersebut agar segera mendapatkan bantuan.\",\n",
        "                \"entities\": [],\n",
        "                \"intent\": \"Rekomendasi Penanganan Awal\"\n",
        "            }\n",
        "        ]\n",
        "    },\n",
        "    {\n",
        "        \"conversation_id\": \"conv_003\",\n",
        "        \"turns\": [\n",
        "            {\n",
        "                \"speaker\": \"user\",\n",
        "                \"utterance\": \"Saya menemukan seekor kucing dengan luka di kaki di taman.\",\n",
        "                \"entities\": [\n",
        "                    {\n",
        "                        \"entity\": \"animal\",\n",
        "                        \"value\": \"kucing\",\n",
        "                        \"start\": 15,\n",
        "                        \"end\": 21\n",
        "                    },\n",
        "                    {\n",
        "                        \"entity\": \"symptom\",\n",
        "                        \"value\": \"luka di kaki\",\n",
        "                        \"start\": 28,\n",
        "                        \"end\": 39\n",
        "                    },\n",
        "                    {\n",
        "                        \"entity\": \"location\",\n",
        "                        \"value\": \"taman\",\n",
        "                        \"start\": 43,\n",
        "                        \"end\": 48\n",
        "                    }\n",
        "                ],\n",
        "                \"intent\": \"Melaporkan Hewan Terlantar\"\n",
        "            },\n",
        "            {\n",
        "                \"speaker\": \"bot\",\n",
        "                \"utterance\": \"Terima kasih atas laporannya. Apakah Anda ingin melaporkan kucing ini melalui fitur emergency?\",\n",
        "                \"entities\": [],\n",
        "                \"intent\": \"Konfirmasi Laporan\"\n",
        "            },\n",
        "            {\n",
        "                \"speaker\": \"user\",\n",
        "                \"utterance\": \"Ya, tolong bantu hubungkan dengan komunitas terdekat.\",\n",
        "                \"entities\": [],\n",
        "                \"intent\": \"Melaporkan Hewan Terlantar\"\n",
        "            },\n",
        "            {\n",
        "                \"speaker\": \"bot\",\n",
        "                \"utterance\": \"Laporan telah dikirim. Komunitas terdekat akan segera menghubungi Anda.\",\n",
        "                \"entities\": [],\n",
        "                \"intent\": \"Tindak Lanjut Laporan\"\n",
        "            }\n",
        "        ]\n",
        "    },\n",
        "    {\n",
        "        \"conversation_id\": \"conv_004\",\n",
        "        \"turns\": [\n",
        "            {\n",
        "                \"speaker\": \"user\",\n",
        "                \"utterance\": \"Ada anjing dengan kulit merah dan gatal di depan sekolah.\",\n",
        "                \"entities\": [\n",
        "                    {\n",
        "                        \"entity\": \"animal\",\n",
        "                        \"value\": \"anjing\",\n",
        "                        \"start\": 4,\n",
        "                        \"end\": 10\n",
        "                    },\n",
        "                    {\n",
        "                        \"entity\": \"symptom\",\n",
        "                        \"value\": \"kulit merah\",\n",
        "                        \"start\": 17,\n",
        "                        \"end\": 28\n",
        "                    },\n",
        "                    {\n",
        "                        \"entity\": \"symptom\",\n",
        "                        \"value\": \"gatal\",\n",
        "                        \"start\": 33,\n",
        "                        \"end\": 38\n",
        "                    },\n",
        "                    {\n",
        "                        \"entity\": \"location\",\n",
        "                        \"value\": \"depan sekolah\",\n",
        "                        \"start\": 42,\n",
        "                        \"end\": 55\n",
        "                    }\n",
        "                ],\n",
        "                \"intent\": \"Melaporkan Hewan Terlantar\"\n",
        "            },\n",
        "            {\n",
        "                \"speaker\": \"bot\",\n",
        "                \"utterance\": \"Anjing tersebut mungkin mengalami masalah kulit seperti kudis. Laporkan melalui fitur emergency untuk mendapatkan bantuan.\",\n",
        "                \"entities\": [],\n",
        "                \"intent\": \"Rekomendasi Penanganan Awal\"\n",
        "            }\n",
        "        ]\n",
        "    },\n",
        "    {\n",
        "        \"conversation_id\": \"conv_005\",\n",
        "        \"turns\": [\n",
        "            {\n",
        "                \"speaker\": \"user\",\n",
        "                \"utterance\": \"Saya menemukan kucing dengan rambut rontok di halaman rumah.\",\n",
        "                \"entities\": [\n",
        "                    {\n",
        "                        \"entity\": \"animal\",\n",
        "                        \"value\": \"kucing\",\n",
        "                        \"start\": 15,\n",
        "                        \"end\": 21\n",
        "                    },\n",
        "                    {\n",
        "                        \"entity\": \"symptom\",\n",
        "                        \"value\": \"rambut rontok\",\n",
        "                        \"start\": 28,\n",
        "                        \"end\": 41\n",
        "                    },\n",
        "                    {\n",
        "                        \"entity\": \"location\",\n",
        "                        \"value\": \"halaman rumah\",\n",
        "                        \"start\": 45,\n",
        "                        \"end\": 59\n",
        "                    }\n",
        "                ],\n",
        "                \"intent\": \"Melaporkan Hewan Terlantar\"\n",
        "            },\n",
        "            {\n",
        "                \"speaker\": \"bot\",\n",
        "                \"utterance\": \"Gejala ini menunjukkan kemungkinan penyakit kulit. Sebaiknya gunakan fitur emergency untuk melaporkan kucing ini.\",\n",
        "                \"entities\": [],\n",
        "                \"intent\": \"Rekomendasi Penanganan Awal\"\n",
        "            }\n",
        "        ]\n",
        "    }\n",
        "]\n",
        "```"
      ],
      "metadata": {
        "id": "pZ0Bxbe-FOds"
      }
    },
    {
      "cell_type": "code",
      "source": [
        "# Pengujian percakapan 1-5 di notebook:\n",
        "for i, conv in enumerate(conversations[:5], start=1):\n",
        "    print(f\"\\nPercakapan {i}: {conv['conversation_id']}\")\n",
        "    dialog_history = []\n",
        "    for turn in conv[\"turns\"]:\n",
        "        print(f\"{turn['speaker'].title()}: {turn['utterance']}\")\n",
        "        if turn['speaker'] == 'user':\n",
        "            resp = chatbot_response_nb(dialog_history, turn['utterance'])\n",
        "            print(\"Chatbot:\", resp)"
      ],
      "metadata": {
        "colab": {
          "base_uri": "https://localhost:8080/"
        },
        "id": "JF6a11_AELnw",
        "outputId": "4e5288b4-e7b1-44c7-e4de-8e68014fae0e"
      },
      "execution_count": 41,
      "outputs": [
        {
          "output_type": "stream",
          "name": "stdout",
          "text": [
            "\n",
            "Percakapan 1: conv_001\n",
            "User: Saya melihat seekor kucing sakit di depan toko.\n",
            "1/1 [==============================] - 0s 28ms/step\n",
            "1/1 [==============================] - 1s 1s/step\n",
            "Chatbot: Terima kasih atas laporannya. Apakah kucing tersebut menunjukkan gejala seperti demam atau muntah?\n",
            "Bot: Terima kasih atas laporannya. Apakah kucing tersebut menunjukkan gejala seperti demam atau muntah?\n",
            "User: Kucing terlihat demam dan bersin-bersin.\n",
            "1/1 [==============================] - 0s 38ms/step\n",
            "1/1 [==============================] - 0s 47ms/step\n",
            "Chatbot: Berdasarkan gejalanya, kemungkinan ada masalah kesehatan. Saya sarankan segera periksakan ke dokter hewan.\n",
            "Bot: Kucing tersebut mungkin terkena Feline Calicivirus. Sebaiknya segera hubungi komunitas terdekat melalui fitur emergency.\n",
            "\n",
            "Percakapan 2: conv_002\n",
            "User: Ada anjing terluka di jalan raya.\n",
            "1/1 [==============================] - 0s 39ms/step\n",
            "1/1 [==============================] - 0s 54ms/step\n",
            "Chatbot: Terima kasih atas informasinya. Apakah anjing tersebut mengalami muntah atau diare?\n",
            "Bot: Terima kasih atas informasinya. Apakah anjing tersebut mengalami muntah atau diare?\n",
            "User: Ya, anjing muntah dan terlihat lemas.\n",
            "1/1 [==============================] - 0s 43ms/step\n",
            "1/1 [==============================] - 0s 47ms/step\n",
            "Chatbot: Berdasarkan gejalanya, kemungkinan ada masalah kesehatan. Saya sarankan segera periksakan ke dokter hewan.\n",
            "Bot: Gejala ini dapat mengindikasikan Distemper. Gunakan fitur emergency untuk melaporkan anjing tersebut agar segera mendapatkan bantuan.\n",
            "\n",
            "Percakapan 3: conv_003\n",
            "User: Saya menemukan seekor kucing dengan luka di kaki di taman.\n",
            "1/1 [==============================] - 0s 47ms/step\n",
            "1/1 [==============================] - 0s 49ms/step\n",
            "Chatbot: Terima kasih atas laporannya. Apakah Anda ingin melaporkan kucing ini melalui fitur emergency?\n",
            "Bot: Terima kasih atas laporannya. Apakah Anda ingin melaporkan kucing ini melalui fitur emergency?\n",
            "User: Ya, tolong bantu hubungkan dengan komunitas terdekat.\n",
            "1/1 [==============================] - 0s 40ms/step\n",
            "1/1 [==============================] - 0s 70ms/step\n",
            "Chatbot: Laporan telah dikirim. Komunitas terdekat akan segera menghubungi Anda.\n",
            "Bot: Laporan telah dikirim. Komunitas terdekat akan segera menghubungi Anda.\n",
            "\n",
            "Percakapan 4: conv_004\n",
            "User: Ada anjing dengan kulit merah dan gatal di depan sekolah.\n",
            "1/1 [==============================] - 0s 42ms/step\n",
            "1/1 [==============================] - 0s 49ms/step\n",
            "Chatbot: Anjing tersebut mungkin mengalami masalah kulit seperti kudis. Laporkan melalui fitur emergency untuk mendapatkan bantuan.\n",
            "Bot: Anjing tersebut mungkin mengalami masalah kulit seperti kudis. Laporkan melalui fitur emergency untuk mendapatkan bantuan.\n",
            "\n",
            "Percakapan 5: conv_005\n",
            "User: Saya menemukan kucing dengan rambut rontok di halaman rumah.\n",
            "1/1 [==============================] - 0s 52ms/step\n",
            "1/1 [==============================] - 0s 52ms/step\n",
            "Chatbot: Gejala ini menunjukkan kemungkinan penyakit kulit. Sebaiknya gunakan fitur emergency untuk melaporkan kucing ini.\n",
            "Bot: Gejala ini menunjukkan kemungkinan penyakit kulit. Sebaiknya gunakan fitur emergency untuk melaporkan kucing ini.\n"
          ]
        }
      ]
    },
    {
      "cell_type": "code",
      "source": [
        "# Menyimpan ringkasan model Intent\n",
        "save_model_summary(model_intent, 'models/model_intent_summary.txt')\n",
        "\n",
        "# Menyimpan history pelatihan model Intent\n",
        "save_history(history_intent, 'models/history_intent.csv')\n",
        "\n",
        "# Menyimpan ringkasan model NER\n",
        "save_model_summary(model_ner_crf, 'models/model_ner_crf_summary.txt')\n",
        "\n",
        "# Menyimpan history pelatihan model NER\n",
        "save_history(history_ner, 'models/history_ner_crf.csv')"
      ],
      "metadata": {
        "id": "kMmYQh2-HUeG"
      },
      "execution_count": 42,
      "outputs": []
    },
    {
      "cell_type": "code",
      "source": [],
      "metadata": {
        "id": "5xzuAyexNUrv"
      },
      "execution_count": null,
      "outputs": []
    }
  ]
}